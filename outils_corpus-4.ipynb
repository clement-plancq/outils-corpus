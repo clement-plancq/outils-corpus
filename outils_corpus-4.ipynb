{
 "cells": [
  {
   "cell_type": "markdown",
   "metadata": {},
   "source": [
    "# Outils-corpus 4\n",
    "# Graphes"
   ]
  },
  {
   "cell_type": "markdown",
   "metadata": {},
   "source": [
    "## 1. Implémentation Python"
   ]
  },
  {
   "cell_type": "markdown",
   "metadata": {},
   "source": [
    "![graph](http://clement-plancq.github.io/outils-corpus/files/graphe.png)\n",
    "\n",
    "Ce graphe peut être implémenté à l'aide d'un dictionnaire python.  \n",
    "En clé les nœuds, en valeur les destinations des arêtes.  \n",
    "Les arêtes seront des tuples `('A', 'B')` par exemple.\n",
    "\n",
    "Vous trouverez de l'information de première main sur ces deux sites dont je me suis inspiré :\n",
    "  - [https://www.python.org/doc/essays/graphs/](https://www.python.org/doc/essays/graphs/)\n",
    "  - [https://www.python-course.eu/graphs_python.php](https://www.python-course.eu/graphs_python.php)"
   ]
  },
  {
   "cell_type": "code",
   "execution_count": null,
   "metadata": {},
   "outputs": [],
   "source": [
    "my_graph = {\n",
    "    'A': ['B', 'C', 'E'], # le sommet 'A' est relié aux sommets 'B', 'C', 'E'\n",
    "    'B': ['F'],\n",
    "    'C': ['G','H'],\n",
    "    'D': ['H'],\n",
    "    'E': ['J'],\n",
    "    'F': ['I'],\n",
    "    'G': ['C'],\n",
    "    'H': ['D','J'],\n",
    "    'I': ['J'],\n",
    "    'J': ['E', 'J'],\n",
    "    }"
   ]
  },
  {
   "cell_type": "code",
   "execution_count": null,
   "metadata": {
    "scrolled": true
   },
   "outputs": [],
   "source": [
    "my_graph"
   ]
  },
  {
   "cell_type": "markdown",
   "metadata": {},
   "source": [
    "Pour manipuler un graphe il faut pouvoir ajouter un nœud et une arête"
   ]
  },
  {
   "cell_type": "code",
   "execution_count": null,
   "metadata": {},
   "outputs": [],
   "source": [
    "def add_node(graph, node):\n",
    "    if node not in graph:\n",
    "        graph[node] = []"
   ]
  },
  {
   "cell_type": "code",
   "execution_count": null,
   "metadata": {},
   "outputs": [],
   "source": [
    "def add_edge(graph, edge):\n",
    "    node1, node2 = tuple(edge)\n",
    "    if node1 in graph:\n",
    "        graph[node1].append(node2)\n",
    "    else:\n",
    "        graph[node1] = [node2]"
   ]
  },
  {
   "cell_type": "code",
   "execution_count": null,
   "metadata": {},
   "outputs": [],
   "source": [
    "# hop j'ajoute un nœud\n",
    "add_node(my_graph, 'K')\n",
    "# hop j'ajoute une arête\n",
    "add_edge(my_graph, ('K', 'J'))\n",
    "my_graph"
   ]
  },
  {
   "cell_type": "markdown",
   "metadata": {},
   "source": [
    "Il faut également pouvoir obtenir facilement la listes de nœuds et des arêtes.  \n",
    "Je fais les nœuds, vous faîtes les arêtes :"
   ]
  },
  {
   "cell_type": "code",
   "execution_count": null,
   "metadata": {},
   "outputs": [],
   "source": [
    "def get_nodes(graph):\n",
    "    \"\"\"\n",
    "    retourne les nœuds d'un graphe \n",
    "    Args:\n",
    "        graph (dict): le graphe\n",
    "    Returns:\n",
    "        list of str\n",
    "    \"\"\"\n",
    "    return list(graph.keys())"
   ]
  },
  {
   "cell_type": "code",
   "execution_count": null,
   "metadata": {},
   "outputs": [],
   "source": [
    "def get_edges(graph):\n",
    "    \"\"\"\n",
    "    retourne les arêtes d'un graphe \n",
    "    Args:\n",
    "        graph (dict): le graphe\n",
    "    Returns:\n",
    "        list of tuples\n",
    "    \"\"\"\n",
    "    edges = []\n",
    "    for node in graph:\n",
    "        for edge in graph[node]:\n",
    "            edges.append((node, edge))\n",
    "    return edges"
   ]
  },
  {
   "cell_type": "code",
   "execution_count": null,
   "metadata": {},
   "outputs": [],
   "source": [
    "get_nodes(my_graph)\n",
    "get_edges(my_graph)"
   ]
  },
  {
   "cell_type": "markdown",
   "metadata": {},
   "source": [
    "Et enfin il faut une fonction pour trouver les chemins entre deux nœuds"
   ]
  },
  {
   "cell_type": "code",
   "execution_count": null,
   "metadata": {},
   "outputs": [],
   "source": [
    "def find_path(graph, start, end, path=None):\n",
    "    if path == None:\n",
    "        path = []\n",
    "    path = path + [start]\n",
    "    if start == end:\n",
    "        return path\n",
    "    if start not in graph:\n",
    "        return None\n",
    "    for node in graph[start]:\n",
    "        if node not in path:\n",
    "            extended_path = find_path(graph, node, end, path)\n",
    "            if extended_path: \n",
    "                return extended_path\n",
    "        return None"
   ]
  },
  {
   "cell_type": "code",
   "execution_count": null,
   "metadata": {},
   "outputs": [],
   "source": [
    "find_path(my_graph, 'A', 'J')"
   ]
  },
  {
   "cell_type": "code",
   "execution_count": null,
   "metadata": {},
   "outputs": [],
   "source": [
    "def find_all_paths(graph, start, end, path=[]):\n",
    "    if path == None:\n",
    "        path = []\n",
    "    path = path + [start]\n",
    "    if start == end:\n",
    "        return [path]\n",
    "    if start not in graph:\n",
    "        return None\n",
    "    paths = []\n",
    "    print(id(paths))\n",
    "    for node in graph[start]:\n",
    "        if node not in path:\n",
    "            newpaths = find_all_paths(graph, node, end, path)\n",
    "            for newpath in newpaths:\n",
    "                paths.append(newpath)\n",
    "    return paths"
   ]
  },
  {
   "cell_type": "code",
   "execution_count": null,
   "metadata": {},
   "outputs": [],
   "source": [
    "find_all_paths(my_graph, 'A', 'J')"
   ]
  },
  {
   "cell_type": "code",
   "execution_count": null,
   "metadata": {},
   "outputs": [],
   "source": [
    "from collections import deque\n",
    "def find_shortest_path(graph, start, end):\n",
    "        dist = {start: [start]}\n",
    "        q = deque(start)\n",
    "        while len(q):\n",
    "            at = q.popleft()\n",
    "            for next in graph[at]:\n",
    "                if next not in dist:\n",
    "                    dist[next] = dist[at] + [next]\n",
    "                    q.append(next)\n",
    "        return dist.get(end)"
   ]
  },
  {
   "cell_type": "code",
   "execution_count": null,
   "metadata": {},
   "outputs": [],
   "source": [
    "find_shortest_path(my_graph, 'J', 'J')"
   ]
  },
  {
   "cell_type": "markdown",
   "metadata": {},
   "source": [
    "## 2. Graphes de données langagières – Grew"
   ]
  },
  {
   "cell_type": "markdown",
   "metadata": {},
   "source": [
    "Ce qui nous intéresse c'est implémenter sous forme de graphe une donnée comme : ![graph](http://clement-plancq.github.io/outils-corpus/files/sequoia-spacy.svg)\n",
    "\n",
    "Ce qui suit est inspiré de la [doc de Grew](http://grew.fr/tuto/)  \n",
    "On a toujours un dictionnaire avec en clé l'identifiant du mot et en valeur un tuple contenant la forme et la liste des dépendants du mot."
   ]
  },
  {
   "cell_type": "code",
   "execution_count": null,
   "metadata": {},
   "outputs": [],
   "source": [
    "g = dict()\n",
    "g['W1'] = ('Le', [])\n",
    "g['W2'] = ('conseil', [])\n",
    "g['W3'] = ('municipal', [])\n",
    "g['W4'] = ('donne', [('nsubj', 'W2'), ('obj', 'W6')])\n",
    "g['W5'] = ('son', [])\n",
    "g['W6'] = ('accord', [('det', 'W5')])\n",
    "g['W2'][1].append(('det', 'W1'))\n",
    "g['W2'][1].append(('amod', 'W3'))"
   ]
  },
  {
   "cell_type": "code",
   "execution_count": null,
   "metadata": {},
   "outputs": [],
   "source": [
    "g['W4']"
   ]
  },
  {
   "cell_type": "markdown",
   "metadata": {},
   "source": [
    "On peut ajouter des traits au nœud plutôt que la forme seule."
   ]
  },
  {
   "cell_type": "code",
   "execution_count": null,
   "metadata": {},
   "outputs": [],
   "source": [
    "g = dict()  \n",
    "g['W1'] = ({'form': 'Le', 'upos': 'DET'}, [])\n",
    "g['W2'] = ({'form': 'conseil', 'upos': 'NOUN'}, [])\n",
    "g['W3'] = ({'form': 'municipal', 'upos': 'ADJ'}, [])\n",
    "g['W4'] = ({'form': 'donne', 'upos': 'VERB'}, [('nsubj', 'W2'), ('obj', 'W6')])\n",
    "g['W5'] = ({'form': 'son', 'upos': 'DET'}, [])\n",
    "g['W6'] = ({'form': 'accord', 'upos': 'NOUN'}, [('det', 'W5')])\n",
    "g['W2'][1].append(('det', 'W1'))\n",
    "g['W2'][1].append(('amod', 'W3'))"
   ]
  },
  {
   "cell_type": "markdown",
   "metadata": {},
   "source": [
    "Le module Grew permet d'écrire un graphe dans une syntaxe simplifiée\n",
    "```python\n",
    "g = grew.graph('''graph {                                                                   \n",
    "    W1 [form = \"Le\", lemma = \"le\", upos = DET];\n",
    "    W2 [form = \"conseil\", lemma = \"conseil\", upos = NOUN];\n",
    "    W3 [form = \"municipal\", lemma = \"municipal\", upos = ADJ];\n",
    "    W4 [form = \"donne\", lemma = \"donner\", upos = VERB];\n",
    "    W5 [form = \"son\", lemma = \"son\", upos = DET];\n",
    "    W6 [form = \"accord\", lemma = \"accord\", upos = NOUN];\n",
    "    W2 -[det]->W1;\n",
    "    W2 -[amod]->W3;\n",
    "    W4 -[nsubj]->W2;\n",
    "    W4 -[obj]->W6;\n",
    "    W6 -[det]->W5;\n",
    "    }''')\n",
    "```\n",
    "\n",
    "Il permet également d'utiliser des patrons de recherche comme .\n",
    "```python\n",
    "grew.search('''pattern {\n",
    "     GOV [lemma = \"donner\"];\n",
    "     DEP[lemma = \"accord\"];\n",
    "     GOV -[obj]-> DEP }', g)\n",
    "```"
   ]
  },
  {
   "cell_type": "markdown",
   "metadata": {},
   "source": [
    "Grew peut s'utiliser :\n",
    "  - en ligne de commande sur des fichiers au format CoNLL-U\n",
    "  - via la [lib python](https://pypi.org/project/Grew/)\n",
    "\n",
    "Je ne vous demande pas d'installer Grew sur vos machines. Vous utiliserez l'interface web [Grew-match](http://match.grew.fr/).  \n",
    "Grew est un outil de réécriture de graphes (*Graph rewriting for NLP*), la recherche de patrons n'en est qu'une sous-partie\n"
   ]
  },
  {
   "cell_type": "markdown",
   "metadata": {},
   "source": [
    "Aidez de la [documentation sur les motifs](http://grew.fr/pattern/) et du tutoriel de [Grew-match](http://match.grew.fr/?corpus=UD_French-Sequoia@2.5#) pour trouver dans le corpus UD_French-Sequoia@2.5 :\n",
    "  - les triplets sujet, verbe, objet\n",
    "  - les phrases avec sujets inversés\n"
   ]
  },
  {
   "cell_type": "markdown",
   "metadata": {},
   "source": [
    "## 3. Graphes de données langagières – Spacy"
   ]
  },
  {
   "cell_type": "markdown",
   "metadata": {},
   "source": [
    "\n",
    "La librairie [spaCy](https://spacy.io/) propose dans sa chaîne de traitement une analyse syntaxique en dépendance.\n",
    "\n",
    "Le modèle pour le français est appris sur le corpus [Sequoia](http://deep-sequoia.inria.fr/) version UD et [wikiNER](https://figshare.com/articles/Learning_multilingual_named_entity_recognition_from_Wikipedia/5462500)\n",
    "\n",
    "Nous verrons plus en détail comment utiliser Spacy lors de la prochaine séance."
   ]
  },
  {
   "cell_type": "code",
   "execution_count": null,
   "metadata": {},
   "outputs": [],
   "source": [
    "import spacy\n",
    "nlp = spacy.load('fr_core_news_md')\n",
    "doc = nlp(\"Le conseil municipal donne son accord pour cette procédure.\")\n",
    "for tok in doc:\n",
    "    print(tok.text, tok.pos_)"
   ]
  },
  {
   "cell_type": "code",
   "execution_count": null,
   "metadata": {},
   "outputs": [],
   "source": [
    "from spacy import displacy\n",
    "displacy.render(doc, style=\"dep\", jupyter=True, options={'distance':110})"
   ]
  },
  {
   "cell_type": "markdown",
   "metadata": {},
   "source": [
    "Pour ce qui nous intéresse aujourd'hui vous devez lire la [doc sur l'analyse en dépendance](https://spacy.io/usage/linguistic-features#dependency-parse)\n",
    "\n",
    "Pour chaque `token` on peut accéder à:\n",
    "  - sa tête `token.head`\n",
    "  - le label de la relation `token.dep_`\n",
    "  - les tokens régis `token.children` (seulement à gauche `token.lefts`, à droite `token.rights`, la séquence complète `token.subtree`)\n",
    "  - la chaîne de recteurs `token.ancestors`"
   ]
  },
  {
   "cell_type": "code",
   "execution_count": null,
   "metadata": {},
   "outputs": [],
   "source": [
    "root = [token for token in doc if token.head == token][0]\n",
    "subjects = [tok for tok in root.lefts if tok.dep_ == \"nsubj\"]\n",
    "subject = subjects[0]"
   ]
  },
  {
   "cell_type": "code",
   "execution_count": null,
   "metadata": {},
   "outputs": [],
   "source": [
    "for descendant in subject.subtree:\n",
    "    print(descendant.text)"
   ]
  },
  {
   "cell_type": "code",
   "execution_count": null,
   "metadata": {},
   "outputs": [],
   "source": [
    "root = [token for token in doc if token.head == token][0]\n",
    "objs = [tok for tok in root.rights if tok.dep_ == \"obj\"]\n",
    "obj = objs[0]"
   ]
  },
  {
   "cell_type": "code",
   "execution_count": null,
   "metadata": {},
   "outputs": [],
   "source": [
    "for descendant in obj.subtree:\n",
    "    print(descendant.text)"
   ]
  },
  {
   "cell_type": "markdown",
   "metadata": {},
   "source": [
    "Pour la séance prochaine,  extrayez les triplets (sujet, verbe, objet) des phrases suivantes et commentez les éventuelles erreurs ou manques.\n",
    "\n",
    "    « Les enfants n'aiment pas trop les asperges. »\n",
    "    « Les Français réclament moins d'impôts. »\n",
    "    « Les acacias donnent un miel ambré, limpide et fluide. »\n",
    "    « L'équipe fait porter le chapeau à l'arbitrage. »\n",
    "    « Des nuées de milliards d'insectes, venus de la péninsule Arabique, s'abattent sur la Corne de l'Afrique et dévorent les cultures, mettant en péril la sécurité alimentaire de la région. »\n"
   ]
  },
  {
   "cell_type": "code",
   "execution_count": null,
   "metadata": {},
   "outputs": [],
   "source": [
    "doc = nlp(\"Des nuées de milliards d'insectes, venus de la péninsule Arabique, s'abattent sur la Corne de l'Afrique et dévorent les cultures, mettant en péril la sécurité alimentaire de la région.\")"
   ]
  },
  {
   "cell_type": "code",
   "execution_count": null,
   "metadata": {},
   "outputs": [],
   "source": [
    "displacy.render(doc, style=\"dep\", jupyter=True, options={'distance':110})"
   ]
  },
  {
   "cell_type": "code",
   "execution_count": null,
   "metadata": {},
   "outputs": [],
   "source": []
  }
 ],
 "metadata": {
  "kernelspec": {
   "display_name": "Python 3",
   "language": "python",
   "name": "python3"
  },
  "language_info": {
   "codemirror_mode": {
    "name": "ipython",
    "version": 3
   },
   "file_extension": ".py",
   "mimetype": "text/x-python",
   "name": "python",
   "nbconvert_exporter": "python",
   "pygments_lexer": "ipython3",
   "version": "3.7.4"
  }
 },
 "nbformat": 4,
 "nbformat_minor": 2
}
