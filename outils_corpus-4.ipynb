{
 "cells": [
  {
   "cell_type": "markdown",
   "metadata": {},
   "source": [
    "# Outils-corpus 4\n",
    "# Graphes"
   ]
  },
  {
   "cell_type": "markdown",
   "metadata": {},
   "source": [
    "## 1. Implémentation Python"
   ]
  },
  {
   "cell_type": "markdown",
   "metadata": {},
   "source": [
    "![graph](http://clement-plancq.github.io/outils-corpus/files/graphe.png)\n",
    "\n",
    "Ce graphe peut être implémenté à l'aide d'un dictionnaire python.  \n",
    "En clé les nœuds, en valeur les destinations des arêtes.  \n",
    "Les arêtes seront des tuples `('A', 'B')` par exemple.\n",
    "\n",
    "Vous trouverez de l'information de première main sur ces deux sites dont je me suis inspiré :\n",
    "  - [https://www.python.org/doc/essays/graphs/](https://www.python.org/doc/essays/graphs/)\n",
    "  - [https://www.python-course.eu/graphs_python.php](https://www.python-course.eu/graphs_python.php)"
   ]
  },
  {
   "cell_type": "code",
   "execution_count": 90,
   "metadata": {},
   "outputs": [],
   "source": [
    "my_graph = {\n",
    "    'A': ['B', 'C', 'E'], # le sommet 'A' est relié aux sommets 'B', 'C', 'E'\n",
    "    'B': ['F'],\n",
    "    'C': ['G','H'],\n",
    "    'D': ['H'],\n",
    "    'E': ['J'],\n",
    "    'F': ['I'],\n",
    "    'G': ['C'],\n",
    "    'H': ['D','J'],\n",
    "    'I': ['J'],\n",
    "    'J': ['E', 'J'],\n",
    "    }"
   ]
  },
  {
   "cell_type": "code",
   "execution_count": 22,
   "metadata": {},
   "outputs": [
    {
     "data": {
      "text/plain": [
       "{'A': ['B', 'C', 'E'],\n",
       " 'B': ['F'],\n",
       " 'F': ['I'],\n",
       " 'I': ['J'],\n",
       " 'C': ['G', 'H'],\n",
       " 'H': ['D', 'J'],\n",
       " 'E': ['J']}"
      ]
     },
     "execution_count": 22,
     "metadata": {},
     "output_type": "execute_result"
    }
   ],
   "source": [
    "my_graph"
   ]
  },
  {
   "cell_type": "markdown",
   "metadata": {},
   "source": [
    "Pour manipuler un graphe il faut pouvoir ajouter un nœud et une arête"
   ]
  },
  {
   "cell_type": "code",
   "execution_count": 10,
   "metadata": {},
   "outputs": [],
   "source": [
    "def add_node(graph, node):\n",
    "    if node not in graph:\n",
    "        graph[node] = []"
   ]
  },
  {
   "cell_type": "code",
   "execution_count": 11,
   "metadata": {},
   "outputs": [],
   "source": [
    "def add_edge(graph, edge):\n",
    "    node1, node2 = tuple(edge)\n",
    "    if node1 in graph:\n",
    "        graph[node1].append(node2)\n",
    "    else:\n",
    "        graph[node1] = [node2]"
   ]
  },
  {
   "cell_type": "code",
   "execution_count": 23,
   "metadata": {},
   "outputs": [
    {
     "data": {
      "text/plain": [
       "{'A': ['B', 'C', 'E'],\n",
       " 'B': ['F'],\n",
       " 'F': ['I'],\n",
       " 'I': ['J'],\n",
       " 'C': ['G', 'H'],\n",
       " 'H': ['D', 'J'],\n",
       " 'E': ['J'],\n",
       " 'K': ['J']}"
      ]
     },
     "execution_count": 23,
     "metadata": {},
     "output_type": "execute_result"
    }
   ],
   "source": [
    "# hop j'ajoute un nœud\n",
    "add_node(my_graph, 'K')\n",
    "# hop j'ajoute une arête\n",
    "add_edge(my_graph, ('K', 'J'))\n",
    "my_graph"
   ]
  },
  {
   "cell_type": "markdown",
   "metadata": {},
   "source": [
    "Il faut également pouvoir obtenir facilement la listes de nœuds et des arêtes.  \n",
    "Je fais les nœuds, vous faîtes les arêtes :"
   ]
  },
  {
   "cell_type": "code",
   "execution_count": 18,
   "metadata": {},
   "outputs": [],
   "source": [
    "def get_nodes(graph):\n",
    "    \"\"\"\n",
    "    retourne les nœuds d'un graphe \n",
    "    Args:\n",
    "        graph (dict): le graphe\n",
    "    Returns:\n",
    "        list of str\n",
    "    \"\"\"\n",
    "    return list(graph.keys())"
   ]
  },
  {
   "cell_type": "code",
   "execution_count": 19,
   "metadata": {},
   "outputs": [],
   "source": [
    "def get_edges(graph):\n",
    "    \"\"\"\n",
    "    retourne les arêtes d'un graphe \n",
    "    Args:\n",
    "        graph (dict): le graphe\n",
    "    Returns:\n",
    "        list of tuples\n",
    "    \"\"\"\n",
    "    # your code"
   ]
  },
  {
   "cell_type": "code",
   "execution_count": 26,
   "metadata": {},
   "outputs": [
    {
     "data": {
      "text/plain": [
       "['A', 'B', 'F', 'I', 'C', 'H', 'E', 'K']"
      ]
     },
     "execution_count": 26,
     "metadata": {},
     "output_type": "execute_result"
    }
   ],
   "source": [
    "get_nodes(my_graph)"
   ]
  },
  {
   "cell_type": "markdown",
   "metadata": {},
   "source": [
    "Et enfin il faut une fonction pour trouver les chemins entre deux nœuds"
   ]
  },
  {
   "cell_type": "code",
   "execution_count": 81,
   "metadata": {},
   "outputs": [],
   "source": [
    "def find_path(graph, start, end, path=None):\n",
    "    if path == None:\n",
    "        path = []\n",
    "    path = path + [start]\n",
    "    if start == end:\n",
    "        return path\n",
    "    if start not in graph:\n",
    "        return None\n",
    "    for node in graph[start]:\n",
    "        if node not in path:\n",
    "            extended_path = find_path(graph, node, end, path)\n",
    "            if extended_path: \n",
    "                return extended_path\n",
    "        return None"
   ]
  },
  {
   "cell_type": "code",
   "execution_count": 82,
   "metadata": {},
   "outputs": [
    {
     "data": {
      "text/plain": [
       "['A', 'B', 'F', 'I', 'J']"
      ]
     },
     "execution_count": 82,
     "metadata": {},
     "output_type": "execute_result"
    }
   ],
   "source": [
    "find_path(my_graph, 'A', 'J')"
   ]
  },
  {
   "cell_type": "markdown",
   "metadata": {},
   "source": [
    "def find_all_paths(graph, start, end, path=[]):\n",
    "    if path == None:\n",
    "        path = []\n",
    "    path = path + [start]\n",
    "    if start == end:\n",
    "        return [path]\n",
    "    if start not in graph:\n",
    "        return None\n",
    "    paths = []\n",
    "    for node in graph[start]:\n",
    "        if node not in path:\n",
    "            newpaths = find_all_paths(graph, node, end, path)\n",
    "            for newpath in newpaths:\n",
    "                paths.append(newpath)\n",
    "    return paths"
   ]
  },
  {
   "cell_type": "code",
   "execution_count": 86,
   "metadata": {},
   "outputs": [
    {
     "data": {
      "text/plain": [
       "[['A', 'B', 'F', 'I', 'J'], ['A', 'C', 'H', 'J'], ['A', 'E', 'J']]"
      ]
     },
     "execution_count": 86,
     "metadata": {},
     "output_type": "execute_result"
    }
   ],
   "source": [
    "find_all_paths(my_graph, 'A', 'J')"
   ]
  },
  {
   "cell_type": "code",
   "execution_count": 98,
   "metadata": {},
   "outputs": [],
   "source": [
    "from collections import deque\n",
    "def find_shortest_path(graph, start, end):\n",
    "        dist = {start: [start]}\n",
    "        q = deque(start)\n",
    "        while len(q):\n",
    "            at = q.popleft()\n",
    "            for next in graph[at]:\n",
    "                if next not in dist:\n",
    "                    dist[next] = dist[at] + [next]\n",
    "                    q.append(next)\n",
    "        return dist.get(end)"
   ]
  },
  {
   "cell_type": "code",
   "execution_count": 99,
   "metadata": {},
   "outputs": [
    {
     "data": {
      "text/plain": [
       "['A', 'E', 'J']"
      ]
     },
     "execution_count": 99,
     "metadata": {},
     "output_type": "execute_result"
    }
   ],
   "source": [
    "find_shortest_path(my_graph, 'A', 'J')"
   ]
  },
  {
   "cell_type": "markdown",
   "metadata": {},
   "source": [
    "## 2. Graphes de données langagières – Grew"
   ]
  },
  {
   "cell_type": "markdown",
   "metadata": {},
   "source": [
    "Ce qui nous intéresse c'est implémenter sous forme de graphe une donnée comme : ![graph](http://clement-plancq.github.io/outils-corpus/files/sequoia-spacy.svg)\n",
    "\n",
    "Ce qui suit est inspiré de la [doc de Grew](http://grew.fr/tuto/)  \n",
    "On a toujours un dictionnaire avec en clé l'identifiant du mot et en valeur un tuple contenant la forme et la liste des dépendants du mot."
   ]
  },
  {
   "cell_type": "code",
   "execution_count": 102,
   "metadata": {},
   "outputs": [],
   "source": [
    "g = dict()\n",
    "g['W1'] = ('Le', [])\n",
    "g['W2'] = ('conseil', [])\n",
    "g['W3'] = ('municipal', [])\n",
    "g['W4'] = ('donne', [('nsubj', 'W2'), ('obj', 'W6')])\n",
    "g['W5'] = ('son', [])\n",
    "g['W6'] = ('accord', [('det', 'W5')])\n",
    "g['W2'][1].append(('det', 'W1'))\n",
    "g['W2'][1].append(('amod', 'W3'))"
   ]
  },
  {
   "cell_type": "code",
   "execution_count": 104,
   "metadata": {},
   "outputs": [
    {
     "data": {
      "text/plain": [
       "('donne', [('nsubj', 'W2'), ('obj', 'W6')])"
      ]
     },
     "execution_count": 104,
     "metadata": {},
     "output_type": "execute_result"
    }
   ],
   "source": [
    "g['W4']"
   ]
  },
  {
   "cell_type": "markdown",
   "metadata": {},
   "source": [
    "On peut ajouter des traits au nœud plutôt que la forme seule."
   ]
  },
  {
   "cell_type": "code",
   "execution_count": 109,
   "metadata": {},
   "outputs": [],
   "source": [
    "g = dict()  \n",
    "g['W1'] = ({'form': 'Le', 'upos': 'DET'}, [])\n",
    "g['W2'] = ({'form': 'conseil', 'upos': 'NOUN'}, [])\n",
    "g['W3'] = ({'form': 'municipal', 'upos': 'ADJ'}, [])\n",
    "g['W4'] = ({'form': 'donne', 'upos': 'VERB'}, [('nsubj', 'W2'), ('obj', 'W6')])\n",
    "g['W5'] = ({'form': 'son', 'upos': 'DET'}, [])\n",
    "g['W6'] = ({'form': 'accord', 'upos': 'NOUN'}, [('det', 'W5')])\n",
    "g['W2'][1].append(('det', 'W1'))\n",
    "g['W2'][1].append(('amod', 'W3'))"
   ]
  },
  {
   "cell_type": "markdown",
   "metadata": {},
   "source": [
    "Le module Grew permet d'écrire un graphe dans une syntaxe simplifiée\n",
    "```python\n",
    "g = grew.graph('''graph {                                                                   \n",
    "    W1 [form = \"Le\", lemma = \"le\", upos = DET];\n",
    "    W2 [form = \"conseil\", lemma = \"conseil\", upos = NOUN];\n",
    "    W3 [form = \"municipal\", lemma = \"municipal\", upos = ADJ];\n",
    "    W4 [form = \"donne\", lemma = \"donner\", upos = VERB];\n",
    "    W5 [form = \"son\", lemma = \"son\", upos = DET];\n",
    "    W6 [form = \"accord\", lemma = \"accord\", upos = NOUN];\n",
    "    W2 -[det]->W1;\n",
    "    W2 -[amod]->W3;\n",
    "    W4 -[nsubj]->W2;\n",
    "    W4 -[obj]->W6;\n",
    "    W6 -[det]->W5;\n",
    "    }''')\n",
    "```\n",
    "\n",
    "Il permet également d'utiliser des patrons de recherche comme .\n",
    "```python\n",
    "grew.search('''pattern {\n",
    "     GOV [lemma = \"donner\"];\n",
    "     DEP[lemma = \"accord\"];\n",
    "     GOV -[obj]-> DEP }', g)\n",
    "```"
   ]
  },
  {
   "cell_type": "markdown",
   "metadata": {},
   "source": [
    "Grew peut s'utiliser :\n",
    "  - en ligne de commande sur des fichiers au format CoNLL-U\n",
    "  - via la [lib python](https://pypi.org/project/Grew/)\n",
    "\n",
    "Je ne vous demande pas d'installer Grew sur vos machines. Vous utiliserez l'interface web [Grew-match](http://match.grew.fr/).  \n",
    "Grew est un outil de réécriture de graphes (*Graph rewriting for NLP*), la recherche de patrons n'en est qu'une sous-partie\n"
   ]
  },
  {
   "cell_type": "markdown",
   "metadata": {},
   "source": [
    "Aidez de la [documentation sur les motifs](http://grew.fr/pattern/) et du tutoriel de [Grew-match](http://match.grew.fr/?corpus=UD_French-Sequoia@2.5#) pour trouver dans le corpus UD_French-Sequoia@2.5 :\n",
    "  - les triplets sujet, verbe, objet\n",
    "  - les phrases avec sujets inversés\n"
   ]
  },
  {
   "cell_type": "markdown",
   "metadata": {},
   "source": [
    "## 3. Graphes de données langagières – Spacy"
   ]
  },
  {
   "cell_type": "markdown",
   "metadata": {},
   "source": [
    "\n",
    "La librairie [spaCy](https://spacy.io/) propose dans sa chaîne de traitement une analyse syntaxique en dépendance.\n",
    "\n",
    "Le modèle pour le français est appris sur le corpus [Sequoia](http://deep-sequoia.inria.fr/) version UD et [wikiNER](https://figshare.com/articles/Learning_multilingual_named_entity_recognition_from_Wikipedia/5462500)\n",
    "\n",
    "Nous verrons plus en détail comment utiliser Spacy lors de la prochaine séance."
   ]
  },
  {
   "cell_type": "code",
   "execution_count": 144,
   "metadata": {},
   "outputs": [
    {
     "name": "stdout",
     "output_type": "stream",
     "text": [
      "Le DET\n",
      "conseil NOUN\n",
      "municipal ADJ\n",
      "donne VERB\n",
      "son DET\n",
      "accord NOUN\n",
      "pour ADP\n",
      "cette DET\n",
      "procédure NOUN\n",
      ". PUNCT\n"
     ]
    }
   ],
   "source": [
    "import spacy\n",
    "nlp = spacy.load('fr_core_news_md')\n",
    "doc = nlp(\"Le conseil municipal donne son accord pour cette procédure.\")\n",
    "for tok in doc:\n",
    "    print(tok.text, tok.pos_)"
   ]
  },
  {
   "cell_type": "code",
   "execution_count": 116,
   "metadata": {},
   "outputs": [
    {
     "data": {
      "text/html": [
       "<svg xmlns=\"http://www.w3.org/2000/svg\" xmlns:xlink=\"http://www.w3.org/1999/xlink\" xml:lang=\"fr\" id=\"b04c8e6ee2e34a558fa211520acbc3a6-0\" class=\"displacy\" width=\"1040\" height=\"302.0\" direction=\"ltr\" style=\"max-width: none; height: 302.0px; color: #000000; background: #ffffff; font-family: Arial; direction: ltr\">\n",
       "<text class=\"displacy-token\" fill=\"currentColor\" text-anchor=\"middle\" y=\"212.0\">\n",
       "    <tspan class=\"displacy-word\" fill=\"currentColor\" x=\"50\">Le</tspan>\n",
       "    <tspan class=\"displacy-tag\" dy=\"2em\" fill=\"currentColor\" x=\"50\">DET</tspan>\n",
       "</text>\n",
       "\n",
       "<text class=\"displacy-token\" fill=\"currentColor\" text-anchor=\"middle\" y=\"212.0\">\n",
       "    <tspan class=\"displacy-word\" fill=\"currentColor\" x=\"160\">conseil</tspan>\n",
       "    <tspan class=\"displacy-tag\" dy=\"2em\" fill=\"currentColor\" x=\"160\">NOUN</tspan>\n",
       "</text>\n",
       "\n",
       "<text class=\"displacy-token\" fill=\"currentColor\" text-anchor=\"middle\" y=\"212.0\">\n",
       "    <tspan class=\"displacy-word\" fill=\"currentColor\" x=\"270\">municipal</tspan>\n",
       "    <tspan class=\"displacy-tag\" dy=\"2em\" fill=\"currentColor\" x=\"270\">ADJ</tspan>\n",
       "</text>\n",
       "\n",
       "<text class=\"displacy-token\" fill=\"currentColor\" text-anchor=\"middle\" y=\"212.0\">\n",
       "    <tspan class=\"displacy-word\" fill=\"currentColor\" x=\"380\">donne</tspan>\n",
       "    <tspan class=\"displacy-tag\" dy=\"2em\" fill=\"currentColor\" x=\"380\">VERB</tspan>\n",
       "</text>\n",
       "\n",
       "<text class=\"displacy-token\" fill=\"currentColor\" text-anchor=\"middle\" y=\"212.0\">\n",
       "    <tspan class=\"displacy-word\" fill=\"currentColor\" x=\"490\">son</tspan>\n",
       "    <tspan class=\"displacy-tag\" dy=\"2em\" fill=\"currentColor\" x=\"490\">DET</tspan>\n",
       "</text>\n",
       "\n",
       "<text class=\"displacy-token\" fill=\"currentColor\" text-anchor=\"middle\" y=\"212.0\">\n",
       "    <tspan class=\"displacy-word\" fill=\"currentColor\" x=\"600\">accord</tspan>\n",
       "    <tspan class=\"displacy-tag\" dy=\"2em\" fill=\"currentColor\" x=\"600\">NOUN</tspan>\n",
       "</text>\n",
       "\n",
       "<text class=\"displacy-token\" fill=\"currentColor\" text-anchor=\"middle\" y=\"212.0\">\n",
       "    <tspan class=\"displacy-word\" fill=\"currentColor\" x=\"710\">pour</tspan>\n",
       "    <tspan class=\"displacy-tag\" dy=\"2em\" fill=\"currentColor\" x=\"710\">ADP</tspan>\n",
       "</text>\n",
       "\n",
       "<text class=\"displacy-token\" fill=\"currentColor\" text-anchor=\"middle\" y=\"212.0\">\n",
       "    <tspan class=\"displacy-word\" fill=\"currentColor\" x=\"820\">cette</tspan>\n",
       "    <tspan class=\"displacy-tag\" dy=\"2em\" fill=\"currentColor\" x=\"820\">DET</tspan>\n",
       "</text>\n",
       "\n",
       "<text class=\"displacy-token\" fill=\"currentColor\" text-anchor=\"middle\" y=\"212.0\">\n",
       "    <tspan class=\"displacy-word\" fill=\"currentColor\" x=\"930\">procédure.</tspan>\n",
       "    <tspan class=\"displacy-tag\" dy=\"2em\" fill=\"currentColor\" x=\"930\">NOUN</tspan>\n",
       "</text>\n",
       "\n",
       "<g class=\"displacy-arrow\">\n",
       "    <path class=\"displacy-arc\" id=\"arrow-b04c8e6ee2e34a558fa211520acbc3a6-0-0\" stroke-width=\"2px\" d=\"M70,167.0 C70,112.0 150.0,112.0 150.0,167.0\" fill=\"none\" stroke=\"currentColor\"/>\n",
       "    <text dy=\"1.25em\" style=\"font-size: 0.8em; letter-spacing: 1px\">\n",
       "        <textPath xlink:href=\"#arrow-b04c8e6ee2e34a558fa211520acbc3a6-0-0\" class=\"displacy-label\" startOffset=\"50%\" side=\"left\" fill=\"currentColor\" text-anchor=\"middle\">det</textPath>\n",
       "    </text>\n",
       "    <path class=\"displacy-arrowhead\" d=\"M70,169.0 L62,157.0 78,157.0\" fill=\"currentColor\"/>\n",
       "</g>\n",
       "\n",
       "<g class=\"displacy-arrow\">\n",
       "    <path class=\"displacy-arc\" id=\"arrow-b04c8e6ee2e34a558fa211520acbc3a6-0-1\" stroke-width=\"2px\" d=\"M180,167.0 C180,57.0 375.0,57.0 375.0,167.0\" fill=\"none\" stroke=\"currentColor\"/>\n",
       "    <text dy=\"1.25em\" style=\"font-size: 0.8em; letter-spacing: 1px\">\n",
       "        <textPath xlink:href=\"#arrow-b04c8e6ee2e34a558fa211520acbc3a6-0-1\" class=\"displacy-label\" startOffset=\"50%\" side=\"left\" fill=\"currentColor\" text-anchor=\"middle\">nsubj</textPath>\n",
       "    </text>\n",
       "    <path class=\"displacy-arrowhead\" d=\"M180,169.0 L172,157.0 188,157.0\" fill=\"currentColor\"/>\n",
       "</g>\n",
       "\n",
       "<g class=\"displacy-arrow\">\n",
       "    <path class=\"displacy-arc\" id=\"arrow-b04c8e6ee2e34a558fa211520acbc3a6-0-2\" stroke-width=\"2px\" d=\"M180,167.0 C180,112.0 260.0,112.0 260.0,167.0\" fill=\"none\" stroke=\"currentColor\"/>\n",
       "    <text dy=\"1.25em\" style=\"font-size: 0.8em; letter-spacing: 1px\">\n",
       "        <textPath xlink:href=\"#arrow-b04c8e6ee2e34a558fa211520acbc3a6-0-2\" class=\"displacy-label\" startOffset=\"50%\" side=\"left\" fill=\"currentColor\" text-anchor=\"middle\">amod</textPath>\n",
       "    </text>\n",
       "    <path class=\"displacy-arrowhead\" d=\"M260.0,169.0 L268.0,157.0 252.0,157.0\" fill=\"currentColor\"/>\n",
       "</g>\n",
       "\n",
       "<g class=\"displacy-arrow\">\n",
       "    <path class=\"displacy-arc\" id=\"arrow-b04c8e6ee2e34a558fa211520acbc3a6-0-3\" stroke-width=\"2px\" d=\"M510,167.0 C510,112.0 590.0,112.0 590.0,167.0\" fill=\"none\" stroke=\"currentColor\"/>\n",
       "    <text dy=\"1.25em\" style=\"font-size: 0.8em; letter-spacing: 1px\">\n",
       "        <textPath xlink:href=\"#arrow-b04c8e6ee2e34a558fa211520acbc3a6-0-3\" class=\"displacy-label\" startOffset=\"50%\" side=\"left\" fill=\"currentColor\" text-anchor=\"middle\">nmod:poss</textPath>\n",
       "    </text>\n",
       "    <path class=\"displacy-arrowhead\" d=\"M510,169.0 L502,157.0 518,157.0\" fill=\"currentColor\"/>\n",
       "</g>\n",
       "\n",
       "<g class=\"displacy-arrow\">\n",
       "    <path class=\"displacy-arc\" id=\"arrow-b04c8e6ee2e34a558fa211520acbc3a6-0-4\" stroke-width=\"2px\" d=\"M400,167.0 C400,57.0 595.0,57.0 595.0,167.0\" fill=\"none\" stroke=\"currentColor\"/>\n",
       "    <text dy=\"1.25em\" style=\"font-size: 0.8em; letter-spacing: 1px\">\n",
       "        <textPath xlink:href=\"#arrow-b04c8e6ee2e34a558fa211520acbc3a6-0-4\" class=\"displacy-label\" startOffset=\"50%\" side=\"left\" fill=\"currentColor\" text-anchor=\"middle\">obj</textPath>\n",
       "    </text>\n",
       "    <path class=\"displacy-arrowhead\" d=\"M595.0,169.0 L603.0,157.0 587.0,157.0\" fill=\"currentColor\"/>\n",
       "</g>\n",
       "\n",
       "<g class=\"displacy-arrow\">\n",
       "    <path class=\"displacy-arc\" id=\"arrow-b04c8e6ee2e34a558fa211520acbc3a6-0-5\" stroke-width=\"2px\" d=\"M730,167.0 C730,57.0 925.0,57.0 925.0,167.0\" fill=\"none\" stroke=\"currentColor\"/>\n",
       "    <text dy=\"1.25em\" style=\"font-size: 0.8em; letter-spacing: 1px\">\n",
       "        <textPath xlink:href=\"#arrow-b04c8e6ee2e34a558fa211520acbc3a6-0-5\" class=\"displacy-label\" startOffset=\"50%\" side=\"left\" fill=\"currentColor\" text-anchor=\"middle\">case</textPath>\n",
       "    </text>\n",
       "    <path class=\"displacy-arrowhead\" d=\"M730,169.0 L722,157.0 738,157.0\" fill=\"currentColor\"/>\n",
       "</g>\n",
       "\n",
       "<g class=\"displacy-arrow\">\n",
       "    <path class=\"displacy-arc\" id=\"arrow-b04c8e6ee2e34a558fa211520acbc3a6-0-6\" stroke-width=\"2px\" d=\"M840,167.0 C840,112.0 920.0,112.0 920.0,167.0\" fill=\"none\" stroke=\"currentColor\"/>\n",
       "    <text dy=\"1.25em\" style=\"font-size: 0.8em; letter-spacing: 1px\">\n",
       "        <textPath xlink:href=\"#arrow-b04c8e6ee2e34a558fa211520acbc3a6-0-6\" class=\"displacy-label\" startOffset=\"50%\" side=\"left\" fill=\"currentColor\" text-anchor=\"middle\">det</textPath>\n",
       "    </text>\n",
       "    <path class=\"displacy-arrowhead\" d=\"M840,169.0 L832,157.0 848,157.0\" fill=\"currentColor\"/>\n",
       "</g>\n",
       "\n",
       "<g class=\"displacy-arrow\">\n",
       "    <path class=\"displacy-arc\" id=\"arrow-b04c8e6ee2e34a558fa211520acbc3a6-0-7\" stroke-width=\"2px\" d=\"M400,167.0 C400,2.0 930.0,2.0 930.0,167.0\" fill=\"none\" stroke=\"currentColor\"/>\n",
       "    <text dy=\"1.25em\" style=\"font-size: 0.8em; letter-spacing: 1px\">\n",
       "        <textPath xlink:href=\"#arrow-b04c8e6ee2e34a558fa211520acbc3a6-0-7\" class=\"displacy-label\" startOffset=\"50%\" side=\"left\" fill=\"currentColor\" text-anchor=\"middle\">obl</textPath>\n",
       "    </text>\n",
       "    <path class=\"displacy-arrowhead\" d=\"M930.0,169.0 L938.0,157.0 922.0,157.0\" fill=\"currentColor\"/>\n",
       "</g>\n",
       "</svg>"
      ],
      "text/plain": [
       "<IPython.core.display.HTML object>"
      ]
     },
     "metadata": {},
     "output_type": "display_data"
    }
   ],
   "source": [
    "from spacy import displacy\n",
    "displacy.render(doc, style=\"dep\", jupyter=True, options={'distance':110})"
   ]
  },
  {
   "cell_type": "markdown",
   "metadata": {},
   "source": [
    "Pour ce qui nous intéresse aujourd'hui vous devez lire la [doc sur l'analyse en dépendance](https://spacy.io/usage/linguistic-features#dependency-parse)\n",
    "\n",
    "Pour chaque `token` on peut accéder à:\n",
    "  - sa tête `token.head`\n",
    "  - le label de la relation `token.dep_`\n",
    "  - les tokens régis `token.children` (seulement à gauche `token.lefts`, à droite `token.rights`, la séquence complète `token.subtree`)\n",
    "  - la chaîne de recteurs `token.ancestors`"
   ]
  },
  {
   "cell_type": "code",
   "execution_count": 120,
   "metadata": {},
   "outputs": [],
   "source": [
    "root = [token for token in doc if token.head == token][0]\n",
    "subjects = [tok for tok in root.lefts if tok.dep_ == \"nsubj\"]\n",
    "subject = subjects[0]"
   ]
  },
  {
   "cell_type": "code",
   "execution_count": 119,
   "metadata": {},
   "outputs": [
    {
     "name": "stdout",
     "output_type": "stream",
     "text": [
      "Le\n",
      "conseil\n",
      "municipal\n"
     ]
    }
   ],
   "source": [
    "for descendant in subject.subtree:\n",
    "    print(descendant.text)"
   ]
  },
  {
   "cell_type": "code",
   "execution_count": 121,
   "metadata": {},
   "outputs": [],
   "source": [
    "root = [token for token in doc if token.head == token][0]\n",
    "objs = [tok for tok in root.rights if tok.dep_ == \"obj\"]\n",
    "obj = objs[0]"
   ]
  },
  {
   "cell_type": "code",
   "execution_count": 122,
   "metadata": {},
   "outputs": [
    {
     "name": "stdout",
     "output_type": "stream",
     "text": [
      "son\n",
      "accord\n"
     ]
    }
   ],
   "source": [
    "for descendant in obj.subtree:\n",
    "    print(descendant.text)"
   ]
  },
  {
   "cell_type": "markdown",
   "metadata": {},
   "source": [
    "Pour la séance prochaine,  extrayez les triplets (sujet, verbe, objet) des phrases suivantes et commentez les éventuelles erreurs ou manques.\n",
    "\n",
    "    « Le chat mange la souris. »\n",
    "    « Les enfants n'aiment pas trop les asperges. »\n",
    "    « Les Français réclament moins d'impôts. »\n",
    "    « Les acacias donnent un miel ambré, limpide et fluide. »\n",
    "    « L'équipe fait porter le chapeau à l'arbitrage. »\n"
   ]
  },
  {
   "cell_type": "code",
   "execution_count": null,
   "metadata": {},
   "outputs": [],
   "source": []
  }
 ],
 "metadata": {
  "kernelspec": {
   "display_name": "Python 3",
   "language": "python",
   "name": "python3"
  },
  "language_info": {
   "codemirror_mode": {
    "name": "ipython",
    "version": 3
   },
   "file_extension": ".py",
   "mimetype": "text/x-python",
   "name": "python",
   "nbconvert_exporter": "python",
   "pygments_lexer": "ipython3",
   "version": "3.7.4"
  }
 },
 "nbformat": 4,
 "nbformat_minor": 2
}
