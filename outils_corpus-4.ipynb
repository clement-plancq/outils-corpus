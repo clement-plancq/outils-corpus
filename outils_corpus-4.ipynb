{
 "cells": [
  {
   "cell_type": "markdown",
   "metadata": {},
   "source": [
    "# Outils-corpus 4\n",
    "# Graphes"
   ]
  },
  {
   "cell_type": "markdown",
   "metadata": {},
   "source": [
    "## 1. Implémentation Python"
   ]
  },
  {
   "cell_type": "markdown",
   "metadata": {},
   "source": [
    "![graph](http://clement-plancq.github.io/outils-corpus/files/graphe.png)\n",
    "\n",
    "Ce graphe peut être implémenté à l'aide d'un dictionnaire python.  \n",
    "En clé les nœuds, en valeur les destinations des arêtes.  \n",
    "Les arêtes seront des tuples `('A', 'B')` par exemple.\n",
    "\n",
    "Vous trouverez de l'information de première main sur ces deux sites dont je me suis inspiré :\n",
    "  - [https://www.python.org/doc/essays/graphs/](https://www.python.org/doc/essays/graphs/)\n",
    "  - [https://www.python-course.eu/graphs_python.php](https://www.python-course.eu/graphs_python.php)"
   ]
  },
  {
   "cell_type": "code",
   "execution_count": 17,
   "metadata": {},
   "outputs": [],
   "source": [
    "my_graph = {\n",
    "    'A': ['C', 'B', 'E'], # le sommet 'A' est relié aux sommets 'B', 'C', 'E'\n",
    "    'B': ['F'],\n",
    "    'C': ['G','H'],\n",
    "    'D': ['H'],\n",
    "    'E': ['J'],\n",
    "    'F': ['I'],\n",
    "    'G': ['C'],\n",
    "    'H': ['D','J'],\n",
    "    'I': ['J'],\n",
    "    'J': ['E', 'J'],\n",
    "    }"
   ]
  },
  {
   "cell_type": "code",
   "execution_count": 2,
   "metadata": {
    "scrolled": true
   },
   "outputs": [
    {
     "data": {
      "text/plain": [
       "{'A': ['C', 'B', 'E'],\n",
       " 'B': ['F'],\n",
       " 'C': ['G', 'H'],\n",
       " 'D': ['H'],\n",
       " 'E': ['J'],\n",
       " 'F': ['I'],\n",
       " 'G': ['C'],\n",
       " 'H': ['D', 'J'],\n",
       " 'I': ['J'],\n",
       " 'J': ['E', 'J']}"
      ]
     },
     "execution_count": 2,
     "metadata": {},
     "output_type": "execute_result"
    }
   ],
   "source": [
    "my_graph"
   ]
  },
  {
   "cell_type": "markdown",
   "metadata": {},
   "source": [
    "Pour manipuler un graphe il faut pouvoir ajouter un nœud et une arête"
   ]
  },
  {
   "cell_type": "code",
   "execution_count": 3,
   "metadata": {},
   "outputs": [],
   "source": [
    "def add_node(graph, node):\n",
    "    if node not in graph:\n",
    "        graph[node] = []"
   ]
  },
  {
   "cell_type": "code",
   "execution_count": 4,
   "metadata": {},
   "outputs": [],
   "source": [
    "def add_edge(graph, edge):\n",
    "    node1, node2 = tuple(edge)\n",
    "    if node1 in graph:\n",
    "        graph[node1].append(node2)\n",
    "    else:\n",
    "        graph[node1] = [node2]"
   ]
  },
  {
   "cell_type": "code",
   "execution_count": 16,
   "metadata": {},
   "outputs": [
    {
     "data": {
      "text/plain": [
       "{'A': ['C', 'B', 'E'],\n",
       " 'B': ['F'],\n",
       " 'C': ['G', 'H'],\n",
       " 'D': ['H'],\n",
       " 'E': ['J'],\n",
       " 'F': ['I'],\n",
       " 'G': ['C'],\n",
       " 'H': ['D', 'J'],\n",
       " 'I': ['J'],\n",
       " 'J': ['E', 'J'],\n",
       " 'K': ['J']}"
      ]
     },
     "execution_count": 16,
     "metadata": {},
     "output_type": "execute_result"
    }
   ],
   "source": [
    "# hop j'ajoute un nœud\n",
    "#add_node(my_graph, 'K')\n",
    "# hop j'ajoute une arête\n",
    "add_edge(my_graph, ('K', 'J'))\n",
    "my_graph"
   ]
  },
  {
   "cell_type": "markdown",
   "metadata": {},
   "source": [
    "Il faut également pouvoir obtenir facilement la listes de nœuds et des arêtes.  \n",
    "Je fais les nœuds, vous faîtes les arêtes :"
   ]
  },
  {
   "cell_type": "code",
   "execution_count": 20,
   "metadata": {},
   "outputs": [],
   "source": [
    "def get_nodes(graph):\n",
    "    \"\"\"\n",
    "    retourne les nœuds d'un graphe \n",
    "    Args:\n",
    "        graph (dict): le graphe\n",
    "    Returns:\n",
    "        list of str\n",
    "    \"\"\"\n",
    "    return list(graph.keys())"
   ]
  },
  {
   "cell_type": "code",
   "execution_count": 21,
   "metadata": {},
   "outputs": [],
   "source": [
    "def get_edges(graph):\n",
    "    \"\"\"\n",
    "    retourne les arêtes d'un graphe \n",
    "    Args:\n",
    "        graph (dict): le graphe\n",
    "    Returns:\n",
    "        list of tuples\n",
    "    \"\"\"\n",
    "    edges = []\n",
    "    for node in graph:\n",
    "        for edge in graph[node]:\n",
    "            edges.append((node, edge))\n",
    "    return edges"
   ]
  },
  {
   "cell_type": "code",
   "execution_count": 23,
   "metadata": {},
   "outputs": [
    {
     "data": {
      "text/plain": [
       "[('A', 'C'),\n",
       " ('A', 'B'),\n",
       " ('A', 'E'),\n",
       " ('B', 'F'),\n",
       " ('C', 'G'),\n",
       " ('C', 'H'),\n",
       " ('D', 'H'),\n",
       " ('E', 'J'),\n",
       " ('F', 'I'),\n",
       " ('G', 'C'),\n",
       " ('H', 'D'),\n",
       " ('H', 'J'),\n",
       " ('I', 'J'),\n",
       " ('J', 'E'),\n",
       " ('J', 'J')]"
      ]
     },
     "execution_count": 23,
     "metadata": {},
     "output_type": "execute_result"
    }
   ],
   "source": [
    "get_nodes(my_graph)\n",
    "get_edges(my_graph)"
   ]
  },
  {
   "cell_type": "markdown",
   "metadata": {},
   "source": [
    "Et enfin il faut une fonction pour trouver les chemins entre deux nœuds"
   ]
  },
  {
   "cell_type": "code",
   "execution_count": 24,
   "metadata": {},
   "outputs": [],
   "source": [
    "def find_path(graph, start, end, path=None):\n",
    "    if path == None:\n",
    "        path = []\n",
    "    path = path + [start]\n",
    "    if start == end:\n",
    "        return path\n",
    "    if start not in graph:\n",
    "        return None\n",
    "    for node in graph[start]:\n",
    "        print(start, node)\n",
    "        if node not in path:\n",
    "            extended_path = find_path(graph, node, end, path)\n",
    "            if extended_path: \n",
    "                return extended_path\n",
    "    return None"
   ]
  },
  {
   "cell_type": "code",
   "execution_count": 29,
   "metadata": {},
   "outputs": [
    {
     "name": "stdout",
     "output_type": "stream",
     "text": [
      "A C\n",
      "C G\n",
      "G C\n",
      "C H\n",
      "H D\n",
      "D H\n",
      "H J\n"
     ]
    },
    {
     "data": {
      "text/plain": [
       "['A', 'C', 'H', 'J']"
      ]
     },
     "execution_count": 29,
     "metadata": {},
     "output_type": "execute_result"
    }
   ],
   "source": [
    "find_path(my_graph, 'A', 'J')"
   ]
  },
  {
   "cell_type": "code",
   "execution_count": 26,
   "metadata": {},
   "outputs": [],
   "source": [
    "def find_all_paths(graph, start, end, path=[]):\n",
    "    if path == None:\n",
    "        path = []\n",
    "    path = path + [start]\n",
    "    if start == end:\n",
    "        return [path]\n",
    "    if start not in graph:\n",
    "        return None\n",
    "    paths = []\n",
    "    for node in graph[start]:\n",
    "        if node not in path:\n",
    "            newpaths = find_all_paths(graph, node, end, path)\n",
    "            for newpath in newpaths:\n",
    "                paths.append(newpath)\n",
    "    return paths"
   ]
  },
  {
   "cell_type": "code",
   "execution_count": 28,
   "metadata": {},
   "outputs": [
    {
     "data": {
      "text/plain": [
       "[['A', 'C', 'H', 'J'], ['A', 'B', 'F', 'I', 'J'], ['A', 'E', 'J']]"
      ]
     },
     "execution_count": 28,
     "metadata": {},
     "output_type": "execute_result"
    }
   ],
   "source": [
    "find_all_paths(my_graph, 'A', 'J')"
   ]
  },
  {
   "cell_type": "code",
   "execution_count": 31,
   "metadata": {},
   "outputs": [],
   "source": [
    "from collections import deque\n",
    "def find_shortest_path(graph, start, end):\n",
    "        dist = {start: [start]}\n",
    "        q = deque(start)\n",
    "        while len(q):\n",
    "            at = q.popleft()\n",
    "            for next in graph[at]:\n",
    "                if next not in dist:\n",
    "                    dist[next] = dist[at] + [next]\n",
    "                    q.append(next)\n",
    "        return dist.get(end)"
   ]
  },
  {
   "cell_type": "code",
   "execution_count": 32,
   "metadata": {},
   "outputs": [
    {
     "data": {
      "text/plain": [
       "['A', 'E', 'J']"
      ]
     },
     "execution_count": 32,
     "metadata": {},
     "output_type": "execute_result"
    }
   ],
   "source": [
    "find_shortest_path(my_graph, 'A', 'J')"
   ]
  },
  {
   "cell_type": "markdown",
   "metadata": {},
   "source": [
    "## 2. Graphes de données langagières – Grew"
   ]
  },
  {
   "cell_type": "markdown",
   "metadata": {},
   "source": [
    "Ce qui nous intéresse c'est implémenter sous forme de graphe une donnée comme : ![graph](http://clement-plancq.github.io/outils-corpus/files/sequoia-spacy.svg)\n",
    "\n",
    "Ce qui suit est inspiré de la [doc de Grew](https://grew.fr/usage/python/)  \n",
    "On a toujours un dictionnaire avec en clé l'identifiant du mot et en valeur un tuple contenant la forme et la liste des dépendants du mot."
   ]
  },
  {
   "cell_type": "code",
   "execution_count": 33,
   "metadata": {},
   "outputs": [],
   "source": [
    "g = dict()\n",
    "g['W1'] = ('Le', [])\n",
    "g['W2'] = ('conseil', [])\n",
    "g['W3'] = ('municipal', [])\n",
    "g['W4'] = ('donne', [('nsubj', 'W2'), ('obj', 'W6')])\n",
    "g['W5'] = ('son', [])\n",
    "g['W6'] = ('accord', [('det', 'W5')])\n",
    "g['W2'][1].append(('det', 'W1'))\n",
    "g['W2'][1].append(('amod', 'W3'))"
   ]
  },
  {
   "cell_type": "code",
   "execution_count": 39,
   "metadata": {},
   "outputs": [
    {
     "data": {
      "text/plain": [
       "('donne',\n",
       " [('nsubj', 'W2'),\n",
       "  ('obj', 'W6'),\n",
       "  ('obl', 'W9'),\n",
       "  ('obl', 'W9'),\n",
       "  ('obl', 'W9'),\n",
       "  ('obl', 'W9')])"
      ]
     },
     "execution_count": 39,
     "metadata": {},
     "output_type": "execute_result"
    }
   ],
   "source": [
    "g['W9'] = ('procédure', [])\n",
    "g['W4'][1].append(('obl', 'W9'))\n",
    "g['W4']"
   ]
  },
  {
   "cell_type": "markdown",
   "metadata": {},
   "source": [
    "On peut ajouter des traits au nœud plutôt que la forme seule."
   ]
  },
  {
   "cell_type": "code",
   "execution_count": 44,
   "metadata": {},
   "outputs": [
    {
     "data": {
      "text/plain": [
       "[('nsubj', 'W2'), ('obj', 'W6')]"
      ]
     },
     "execution_count": 44,
     "metadata": {},
     "output_type": "execute_result"
    }
   ],
   "source": [
    "g = dict()  \n",
    "g['W1'] = ({'form': 'Le', 'upos': 'DET'}, [])\n",
    "g['W2'] = ({'form': 'conseil', 'upos': 'NOUN'}, [])\n",
    "g['W3'] = ({'form': 'municipal', 'upos': 'ADJ'}, [])\n",
    "g['W4'] = ({'form': 'donne', 'upos': 'VERB', 'lemma':'donner'}, [('nsubj', 'W2'), ('obj', 'W6')])\n",
    "g['W5'] = ({'form': 'son', 'upos': 'DET'}, [])\n",
    "g['W6'] = ({'form': 'accord', 'upos': 'NOUN'}, [('det', 'W5')])\n",
    "g['W2'][1].append(('det', 'W1'))\n",
    "g['W2'][1].append(('amod', 'W3'))\n",
    "\n",
    "g['W4'][1]"
   ]
  },
  {
   "cell_type": "markdown",
   "metadata": {},
   "source": [
    "Le module Grew permet d'écrire un graphe dans une syntaxe simplifiée\n",
    "```python\n",
    "g = grew.graph('''graph {                                                                   \n",
    "    W1 [form = \"Le\", lemma = \"le\", upos = DET];\n",
    "    W2 [form = \"conseil\", lemma = \"conseil\", upos = NOUN];\n",
    "    W3 [form = \"municipal\", lemma = \"municipal\", upos = ADJ];\n",
    "    W4 [form = \"donne\", lemma = \"donner\", upos = VERB];\n",
    "    W5 [form = \"son\", lemma = \"son\", upos = DET];\n",
    "    W6 [form = \"accord\", lemma = \"accord\", upos = NOUN];\n",
    "    W2 -[det]->W1;\n",
    "    W2 -[amod]->W3;\n",
    "    W4 -[nsubj]->W2;\n",
    "    W4 -[obj]->W6;\n",
    "    W6 -[det]->W5;\n",
    "    }''')\n",
    "```\n",
    "\n",
    "Il permet également d'utiliser des patrons de recherche comme .\n",
    "```python\n",
    "grew.search('''pattern {\n",
    "     GOV [lemma = \"donner\"];\n",
    "     DEP[lemma = \"accord\"];\n",
    "     GOV -[obj]-> DEP }', g)\n",
    "```"
   ]
  },
  {
   "cell_type": "code",
   "execution_count": null,
   "metadata": {},
   "outputs": [],
   "source": [
    "import grew\n",
    "\n",
    "g = grew.graph('''graph {                                                                   \n",
    "    W1 [form = \"Le\", lemma = \"le\", upos = DET];\n",
    "    W2 [form = \"conseil\", lemma = \"conseil\", upos = NOUN];\n",
    "    W3 [form = \"municipal\", lemma = \"municipal\", upos = ADJ];\n",
    "    W4 [form = \"donne\", lemma = \"donner\", upos = VERB];\n",
    "    W5 [form = \"son\", lemma = \"son\", upos = DET];\n",
    "    W6 [form = \"accord\", lemma = \"accord\", upos = NOUN];\n",
    "    W2 -[det]->W1;\n",
    "    W2 -[amod]->W3;\n",
    "    W4 -[nsubj]->W2;\n",
    "    W4 -[obj]->W6;\n",
    "    W6 -[det]->W5;\n",
    "    }''')"
   ]
  },
  {
   "cell_type": "code",
   "execution_count": null,
   "metadata": {},
   "outputs": [],
   "source": [
    "g"
   ]
  },
  {
   "cell_type": "markdown",
   "metadata": {},
   "source": [
    "Grew peut s'utiliser :\n",
    "  - en ligne de commande sur des fichiers au format CoNLL-U\n",
    "  - via la [lib python](https://pypi.org/project/Grew/)\n",
    "\n",
    "Je ne vous demande pas d'installer Grew sur vos machines. Vous utiliserez l'interface web [Grew-match](http://match.grew.fr/).  \n",
    "Grew est un outil de réécriture de graphes (*Graph rewriting for NLP*), la recherche de patrons n'en est qu'une sous-partie\n"
   ]
  },
  {
   "cell_type": "markdown",
   "metadata": {},
   "source": [
    "Aidez de la [documentation sur les motifs](http://grew.fr/pattern/) et du tutoriel de [Grew-match](http://match.grew.fr/?corpus=UD_French-Sequoia@2.7) pour trouver dans le corpus `UD_French-Sequoia@2.7` :\n",
    "  - les triplets sujet, verbe, objet\n",
    "  - les phrases avec sujets inversés\n"
   ]
  },
  {
   "cell_type": "markdown",
   "metadata": {},
   "source": [
    "## 3. Graphes de données langagières – Spacy"
   ]
  },
  {
   "cell_type": "markdown",
   "metadata": {},
   "source": [
    "\n",
    "La librairie [spaCy](https://spacy.io/) propose dans sa chaîne de traitement une analyse syntaxique en dépendance.\n",
    "\n",
    "Le modèle pour le français est appris sur le corpus [Sequoia](http://deep-sequoia.inria.fr/) version UD et [wikiNER](https://figshare.com/articles/Learning_multilingual_named_entity_recognition_from_Wikipedia/5462500)\n",
    "\n",
    "Nous verrons plus en détail comment utiliser Spacy lors de la prochaine séance."
   ]
  },
  {
   "cell_type": "code",
   "execution_count": 5,
   "metadata": {},
   "outputs": [
    {
     "name": "stdout",
     "output_type": "stream",
     "text": [
      "Le DET\n",
      "conseil NOUN\n",
      "municipal ADJ\n",
      "donne VERB\n",
      "son DET\n",
      "accord NOUN\n",
      "pour ADP\n",
      "cette DET\n",
      "procédure NOUN\n",
      ". PUNCT\n"
     ]
    }
   ],
   "source": [
    "import spacy\n",
    "nlp = spacy.load('fr_core_news_md')\n",
    "doc = nlp(\"Le conseil municipal donne son accord pour cette procédure.\")\n",
    "for tok in doc:\n",
    "    print(tok.text, tok.pos_)"
   ]
  },
  {
   "cell_type": "code",
   "execution_count": 6,
   "metadata": {},
   "outputs": [
    {
     "data": {
      "text/html": [
       "<span class=\"tex2jax_ignore\"><svg xmlns=\"http://www.w3.org/2000/svg\" xmlns:xlink=\"http://www.w3.org/1999/xlink\" xml:lang=\"fr\" id=\"9ad94602bbb64d85a6ba40f90fdf29da-0\" class=\"displacy\" width=\"1040\" height=\"302.0\" direction=\"ltr\" style=\"max-width: none; height: 302.0px; color: #000000; background: #ffffff; font-family: Arial; direction: ltr\">\n",
       "<text class=\"displacy-token\" fill=\"currentColor\" text-anchor=\"middle\" y=\"212.0\">\n",
       "    <tspan class=\"displacy-word\" fill=\"currentColor\" x=\"50\">Le</tspan>\n",
       "    <tspan class=\"displacy-tag\" dy=\"2em\" fill=\"currentColor\" x=\"50\">DET</tspan>\n",
       "</text>\n",
       "\n",
       "<text class=\"displacy-token\" fill=\"currentColor\" text-anchor=\"middle\" y=\"212.0\">\n",
       "    <tspan class=\"displacy-word\" fill=\"currentColor\" x=\"160\">conseil</tspan>\n",
       "    <tspan class=\"displacy-tag\" dy=\"2em\" fill=\"currentColor\" x=\"160\">NOUN</tspan>\n",
       "</text>\n",
       "\n",
       "<text class=\"displacy-token\" fill=\"currentColor\" text-anchor=\"middle\" y=\"212.0\">\n",
       "    <tspan class=\"displacy-word\" fill=\"currentColor\" x=\"270\">municipal</tspan>\n",
       "    <tspan class=\"displacy-tag\" dy=\"2em\" fill=\"currentColor\" x=\"270\">ADJ</tspan>\n",
       "</text>\n",
       "\n",
       "<text class=\"displacy-token\" fill=\"currentColor\" text-anchor=\"middle\" y=\"212.0\">\n",
       "    <tspan class=\"displacy-word\" fill=\"currentColor\" x=\"380\">donne</tspan>\n",
       "    <tspan class=\"displacy-tag\" dy=\"2em\" fill=\"currentColor\" x=\"380\">VERB</tspan>\n",
       "</text>\n",
       "\n",
       "<text class=\"displacy-token\" fill=\"currentColor\" text-anchor=\"middle\" y=\"212.0\">\n",
       "    <tspan class=\"displacy-word\" fill=\"currentColor\" x=\"490\">son</tspan>\n",
       "    <tspan class=\"displacy-tag\" dy=\"2em\" fill=\"currentColor\" x=\"490\">DET</tspan>\n",
       "</text>\n",
       "\n",
       "<text class=\"displacy-token\" fill=\"currentColor\" text-anchor=\"middle\" y=\"212.0\">\n",
       "    <tspan class=\"displacy-word\" fill=\"currentColor\" x=\"600\">accord</tspan>\n",
       "    <tspan class=\"displacy-tag\" dy=\"2em\" fill=\"currentColor\" x=\"600\">NOUN</tspan>\n",
       "</text>\n",
       "\n",
       "<text class=\"displacy-token\" fill=\"currentColor\" text-anchor=\"middle\" y=\"212.0\">\n",
       "    <tspan class=\"displacy-word\" fill=\"currentColor\" x=\"710\">pour</tspan>\n",
       "    <tspan class=\"displacy-tag\" dy=\"2em\" fill=\"currentColor\" x=\"710\">ADP</tspan>\n",
       "</text>\n",
       "\n",
       "<text class=\"displacy-token\" fill=\"currentColor\" text-anchor=\"middle\" y=\"212.0\">\n",
       "    <tspan class=\"displacy-word\" fill=\"currentColor\" x=\"820\">cette</tspan>\n",
       "    <tspan class=\"displacy-tag\" dy=\"2em\" fill=\"currentColor\" x=\"820\">DET</tspan>\n",
       "</text>\n",
       "\n",
       "<text class=\"displacy-token\" fill=\"currentColor\" text-anchor=\"middle\" y=\"212.0\">\n",
       "    <tspan class=\"displacy-word\" fill=\"currentColor\" x=\"930\">procédure.</tspan>\n",
       "    <tspan class=\"displacy-tag\" dy=\"2em\" fill=\"currentColor\" x=\"930\">NOUN</tspan>\n",
       "</text>\n",
       "\n",
       "<g class=\"displacy-arrow\">\n",
       "    <path class=\"displacy-arc\" id=\"arrow-9ad94602bbb64d85a6ba40f90fdf29da-0-0\" stroke-width=\"2px\" d=\"M70,167.0 C70,112.0 150.0,112.0 150.0,167.0\" fill=\"none\" stroke=\"currentColor\"/>\n",
       "    <text dy=\"1.25em\" style=\"font-size: 0.8em; letter-spacing: 1px\">\n",
       "        <textPath xlink:href=\"#arrow-9ad94602bbb64d85a6ba40f90fdf29da-0-0\" class=\"displacy-label\" startOffset=\"50%\" side=\"left\" fill=\"currentColor\" text-anchor=\"middle\">det</textPath>\n",
       "    </text>\n",
       "    <path class=\"displacy-arrowhead\" d=\"M70,169.0 L62,157.0 78,157.0\" fill=\"currentColor\"/>\n",
       "</g>\n",
       "\n",
       "<g class=\"displacy-arrow\">\n",
       "    <path class=\"displacy-arc\" id=\"arrow-9ad94602bbb64d85a6ba40f90fdf29da-0-1\" stroke-width=\"2px\" d=\"M180,167.0 C180,57.0 375.0,57.0 375.0,167.0\" fill=\"none\" stroke=\"currentColor\"/>\n",
       "    <text dy=\"1.25em\" style=\"font-size: 0.8em; letter-spacing: 1px\">\n",
       "        <textPath xlink:href=\"#arrow-9ad94602bbb64d85a6ba40f90fdf29da-0-1\" class=\"displacy-label\" startOffset=\"50%\" side=\"left\" fill=\"currentColor\" text-anchor=\"middle\">nsubj</textPath>\n",
       "    </text>\n",
       "    <path class=\"displacy-arrowhead\" d=\"M180,169.0 L172,157.0 188,157.0\" fill=\"currentColor\"/>\n",
       "</g>\n",
       "\n",
       "<g class=\"displacy-arrow\">\n",
       "    <path class=\"displacy-arc\" id=\"arrow-9ad94602bbb64d85a6ba40f90fdf29da-0-2\" stroke-width=\"2px\" d=\"M180,167.0 C180,112.0 260.0,112.0 260.0,167.0\" fill=\"none\" stroke=\"currentColor\"/>\n",
       "    <text dy=\"1.25em\" style=\"font-size: 0.8em; letter-spacing: 1px\">\n",
       "        <textPath xlink:href=\"#arrow-9ad94602bbb64d85a6ba40f90fdf29da-0-2\" class=\"displacy-label\" startOffset=\"50%\" side=\"left\" fill=\"currentColor\" text-anchor=\"middle\">amod</textPath>\n",
       "    </text>\n",
       "    <path class=\"displacy-arrowhead\" d=\"M260.0,169.0 L268.0,157.0 252.0,157.0\" fill=\"currentColor\"/>\n",
       "</g>\n",
       "\n",
       "<g class=\"displacy-arrow\">\n",
       "    <path class=\"displacy-arc\" id=\"arrow-9ad94602bbb64d85a6ba40f90fdf29da-0-3\" stroke-width=\"2px\" d=\"M510,167.0 C510,112.0 590.0,112.0 590.0,167.0\" fill=\"none\" stroke=\"currentColor\"/>\n",
       "    <text dy=\"1.25em\" style=\"font-size: 0.8em; letter-spacing: 1px\">\n",
       "        <textPath xlink:href=\"#arrow-9ad94602bbb64d85a6ba40f90fdf29da-0-3\" class=\"displacy-label\" startOffset=\"50%\" side=\"left\" fill=\"currentColor\" text-anchor=\"middle\">det</textPath>\n",
       "    </text>\n",
       "    <path class=\"displacy-arrowhead\" d=\"M510,169.0 L502,157.0 518,157.0\" fill=\"currentColor\"/>\n",
       "</g>\n",
       "\n",
       "<g class=\"displacy-arrow\">\n",
       "    <path class=\"displacy-arc\" id=\"arrow-9ad94602bbb64d85a6ba40f90fdf29da-0-4\" stroke-width=\"2px\" d=\"M400,167.0 C400,57.0 595.0,57.0 595.0,167.0\" fill=\"none\" stroke=\"currentColor\"/>\n",
       "    <text dy=\"1.25em\" style=\"font-size: 0.8em; letter-spacing: 1px\">\n",
       "        <textPath xlink:href=\"#arrow-9ad94602bbb64d85a6ba40f90fdf29da-0-4\" class=\"displacy-label\" startOffset=\"50%\" side=\"left\" fill=\"currentColor\" text-anchor=\"middle\">obj</textPath>\n",
       "    </text>\n",
       "    <path class=\"displacy-arrowhead\" d=\"M595.0,169.0 L603.0,157.0 587.0,157.0\" fill=\"currentColor\"/>\n",
       "</g>\n",
       "\n",
       "<g class=\"displacy-arrow\">\n",
       "    <path class=\"displacy-arc\" id=\"arrow-9ad94602bbb64d85a6ba40f90fdf29da-0-5\" stroke-width=\"2px\" d=\"M730,167.0 C730,57.0 925.0,57.0 925.0,167.0\" fill=\"none\" stroke=\"currentColor\"/>\n",
       "    <text dy=\"1.25em\" style=\"font-size: 0.8em; letter-spacing: 1px\">\n",
       "        <textPath xlink:href=\"#arrow-9ad94602bbb64d85a6ba40f90fdf29da-0-5\" class=\"displacy-label\" startOffset=\"50%\" side=\"left\" fill=\"currentColor\" text-anchor=\"middle\">case</textPath>\n",
       "    </text>\n",
       "    <path class=\"displacy-arrowhead\" d=\"M730,169.0 L722,157.0 738,157.0\" fill=\"currentColor\"/>\n",
       "</g>\n",
       "\n",
       "<g class=\"displacy-arrow\">\n",
       "    <path class=\"displacy-arc\" id=\"arrow-9ad94602bbb64d85a6ba40f90fdf29da-0-6\" stroke-width=\"2px\" d=\"M840,167.0 C840,112.0 920.0,112.0 920.0,167.0\" fill=\"none\" stroke=\"currentColor\"/>\n",
       "    <text dy=\"1.25em\" style=\"font-size: 0.8em; letter-spacing: 1px\">\n",
       "        <textPath xlink:href=\"#arrow-9ad94602bbb64d85a6ba40f90fdf29da-0-6\" class=\"displacy-label\" startOffset=\"50%\" side=\"left\" fill=\"currentColor\" text-anchor=\"middle\">det</textPath>\n",
       "    </text>\n",
       "    <path class=\"displacy-arrowhead\" d=\"M840,169.0 L832,157.0 848,157.0\" fill=\"currentColor\"/>\n",
       "</g>\n",
       "\n",
       "<g class=\"displacy-arrow\">\n",
       "    <path class=\"displacy-arc\" id=\"arrow-9ad94602bbb64d85a6ba40f90fdf29da-0-7\" stroke-width=\"2px\" d=\"M400,167.0 C400,2.0 930.0,2.0 930.0,167.0\" fill=\"none\" stroke=\"currentColor\"/>\n",
       "    <text dy=\"1.25em\" style=\"font-size: 0.8em; letter-spacing: 1px\">\n",
       "        <textPath xlink:href=\"#arrow-9ad94602bbb64d85a6ba40f90fdf29da-0-7\" class=\"displacy-label\" startOffset=\"50%\" side=\"left\" fill=\"currentColor\" text-anchor=\"middle\">obl:mod</textPath>\n",
       "    </text>\n",
       "    <path class=\"displacy-arrowhead\" d=\"M930.0,169.0 L938.0,157.0 922.0,157.0\" fill=\"currentColor\"/>\n",
       "</g>\n",
       "</svg></span>"
      ],
      "text/plain": [
       "<IPython.core.display.HTML object>"
      ]
     },
     "metadata": {},
     "output_type": "display_data"
    }
   ],
   "source": [
    "from spacy import displacy\n",
    "displacy.render(doc, style=\"dep\", jupyter=True, options={'distance':110})"
   ]
  },
  {
   "cell_type": "markdown",
   "metadata": {},
   "source": [
    "Il existe également un outil issu d'un développement indépendant : [explacy](https://spacy.io/universe/project/explacy)"
   ]
  },
  {
   "cell_type": "code",
   "execution_count": 9,
   "metadata": {},
   "outputs": [
    {
     "name": "stdout",
     "output_type": "stream",
     "text": [
      "Dep tree     Token     Dep type Lemma     Part of Sp\n",
      "──────────── ───────── ──────── ───────── ──────────\n",
      "         ┌─► Derrière  case     derrière  ADP       \n",
      "┌───────►└── lui       obl:mod  lui       PRON      \n",
      "│┌─────────► ,         punct    ,         PUNCT     \n",
      "││      ┌──► sur       case     sur       ADP       \n",
      "││      │┌─► le        det      le        DET       \n",
      "││┌─►┌──┴┴── carreau   obl:mod  carreau   NOUN      \n",
      "│││  │  ┌──► de        case     de        ADP       \n",
      "│││  │  │┌─► la        det      le        DET       \n",
      "│││  └─►└┼── rue       nmod     rue       NOUN      \n",
      "│││      └─► Rambuteau nmod     Rambuteau PROPN     \n",
      "│││     ┌──► ,         punct    ,         PUNCT     \n",
      "│││     │┌─► on        nsubj    on        PRON      \n",
      "└┴┴──┬┬─┴┴── vendait   ROOT     vendre    VERB      \n",
      "     ││  ┌─► des       det      un        DET       \n",
      "     │└─►└── fruits    obj      fruit     NOUN      \n",
      "     └─────► .         punct    .         PUNCT     \n"
     ]
    }
   ],
   "source": [
    "import explacy\n",
    "explacy.print_parse_info(nlp, 'Derrière lui, sur le carreau de la rue Rambuteau, on vendait des fruits.')"
   ]
  },
  {
   "cell_type": "markdown",
   "metadata": {},
   "source": [
    "Pour ce qui nous intéresse aujourd'hui vous devez lire la [doc sur l'analyse en dépendance](https://spacy.io/usage/linguistic-features#dependency-parse)\n",
    "\n",
    "Pour chaque `token` on peut accéder à:\n",
    "  - sa tête `token.head`\n",
    "  - le label de la relation `token.dep_`\n",
    "  - les tokens régis `token.children` (seulement à gauche `token.lefts`, à droite `token.rights`, la séquence complète `token.subtree`)\n",
    "  - la chaîne de recteurs `token.ancestors`"
   ]
  },
  {
   "cell_type": "code",
   "execution_count": 7,
   "metadata": {},
   "outputs": [],
   "source": [
    "root = [token for token in doc if token.head == token][0]\n",
    "subjects = [tok for tok in root.lefts if tok.dep_ == \"nsubj\"]\n",
    "subject = subjects[0]"
   ]
  },
  {
   "cell_type": "code",
   "execution_count": 8,
   "metadata": {},
   "outputs": [
    {
     "name": "stdout",
     "output_type": "stream",
     "text": [
      "Le\n",
      "conseil\n",
      "municipal\n"
     ]
    }
   ],
   "source": [
    "for descendant in subject.subtree:\n",
    "    print(descendant.text)"
   ]
  },
  {
   "cell_type": "code",
   "execution_count": null,
   "metadata": {},
   "outputs": [],
   "source": [
    "root = [token for token in doc if token.head == token][0]\n",
    "objs = [tok for tok in root.rights if tok.dep_ == \"obj\"]\n",
    "obj = objs[0]"
   ]
  },
  {
   "cell_type": "code",
   "execution_count": null,
   "metadata": {},
   "outputs": [],
   "source": [
    "for descendant in obj.subtree:\n",
    "    print(descendant.text)"
   ]
  },
  {
   "cell_type": "markdown",
   "metadata": {},
   "source": [
    "Pour la séance prochaine,  extrayez les triplets (sujet, verbe, objet) des phrases suivantes et commentez les éventuelles erreurs ou manques.\n",
    "\n",
    "    « Les enfants n'aiment pas trop les asperges. »\n",
    "    « Les Français réclament moins d'impôts. »\n",
    "    « Les acacias donnent un miel ambré, limpide et fluide. »\n",
    "    « L'équipe fait porter le chapeau à l'arbitrage. »\n",
    "    « Des nuées de milliards d'insectes, venus de la péninsule Arabique, s'abattent sur la Corne de l'Afrique et dévorent les cultures, mettant en péril la sécurité alimentaire de la région. »\n"
   ]
  },
  {
   "cell_type": "code",
   "execution_count": null,
   "metadata": {},
   "outputs": [],
   "source": [
    "doc = nlp(\"Des nuées de milliards d'insectes, venus de la péninsule Arabique, s'abattent sur la Corne de l'Afrique et dévorent les cultures, mettant en péril la sécurité alimentaire de la région.\")"
   ]
  },
  {
   "cell_type": "code",
   "execution_count": null,
   "metadata": {},
   "outputs": [],
   "source": [
    "displacy.render(doc, style=\"dep\", jupyter=True, options={'distance':110})"
   ]
  },
  {
   "cell_type": "markdown",
   "metadata": {},
   "source": [
    "Depuis la v3, Spacy a ajouté un *Dependancy Matcher* qui permet de faire de l'extraction de patrons syntaxiques. Il est maintenant possible de faire porter des requêtes sur l'arbre syntaxique et non plus seulement sur la séquence des tokens.  \n",
    "Ce dispositif utilise [Semgrex](https://nlp.stanford.edu/nlp/javadoc/javanlp/edu/stanford/nlp/semgraph/semgrex/SemgrexPattern.html), la syntaxe utilisée dans Tgrep et Tregex, les outils de requête sur Treebank de Stanford.\n",
    "\n",
    "Voir la [documentation](https://spacy.io/usage/rule-based-matching#dependencymatcher)"
   ]
  },
  {
   "cell_type": "code",
   "execution_count": 11,
   "metadata": {},
   "outputs": [],
   "source": [
    "ventre_short = \"\"\n",
    "with open('files/Le_Ventre_de_Paris-short.txt') as input_f:\n",
    "    ventre_short = input_f.read()\n",
    "doc = nlp(ventre_short)"
   ]
  },
  {
   "cell_type": "code",
   "execution_count": 12,
   "metadata": {},
   "outputs": [
    {
     "name": "stdout",
     "output_type": "stream",
     "text": [
      "vend\n",
      "vendant\n",
      "vendait\n",
      "vendait\n",
      "vendaient\n",
      "vendaient\n",
      "vend\n",
      "vendu\n",
      "vendu\n",
      "vendre\n",
      "vendait\n",
      "vendu\n",
      "vendais\n",
      "vendu\n",
      "vendrait\n"
     ]
    }
   ],
   "source": [
    "from spacy.matcher import DependencyMatcher\n",
    "\n",
    "matcher = DependencyMatcher(nlp.vocab)\n",
    "pattern = [\n",
    "  {\n",
    "    \"RIGHT_ID\": \"vendre\",    \n",
    "    \"RIGHT_ATTRS\": {\"LEMMA\": \"vendre\"}\n",
    "  }\n",
    "]\n",
    "matcher.add(\"VENDRE\", [pattern])\n",
    "matches = matcher(doc)\n",
    "for m_id, t_ids in matches:\n",
    "    for t_id in t_ids:\n",
    "        print(doc[t_id])"
   ]
  },
  {
   "cell_type": "code",
   "execution_count": 13,
   "metadata": {},
   "outputs": [
    {
     "name": "stdout",
     "output_type": "stream",
     "text": [
      "verbe, sujet, objet :  acheta -> il -> derniers\n",
      "objet complet :  ses deux derniers sous de pain\n",
      "Phrase compléte :  Mais, à Vernon, il acheta ses deux derniers sous de pain.\n",
      "\n",
      "verbe, sujet, objet :  achetait -> elle -> qu’\n",
      "objet complet :  qu’\n",
      "Phrase compléte :  J’étais gamine, qu’elle achetait déjà ses navets à mon père.\n",
      "\n",
      "verbe, sujet, objet :  achetait -> elle -> navets\n",
      "objet complet :  ses navets à mon père\n",
      "Phrase compléte :  J’étais gamine, qu’elle achetait déjà ses navets à mon père.\n",
      "\n",
      "verbe, sujet, objet :  vendait -> on -> fruits\n",
      "objet complet :  des fruits\n",
      "Phrase compléte :  \n",
      "\n",
      "Derrière lui, sur le carreau de la rue Rambuteau, on vendait des fruits.\n",
      "\n",
      "verbe, sujet, objet :  vendaient -> qui -> bottes\n",
      "objet complet :  des bottes de fougère et des paquets de feuilles de vigne , bien réguliers , attachés par quarterons\n",
      "Phrase compléte :  Ils s’arrêtèrent curieusement devant des femmes qui vendaient des bottes de fougère et des paquets de feuilles de vigne, bien réguliers, attachés par quarterons.\n",
      "\n",
      "verbe, sujet, objet :  vend -> Lui -> volaille\n",
      "objet complet :  toute la volaille qu’ il veut\n",
      "Phrase compléte :  Lui, vend toute la volaille qu’il veut…\n",
      "\n",
      "verbe, sujet, objet :  achetait -> il -> morceau\n",
      "objet complet :  un morceau de dinde ou un morceau d’ oie de douze\n",
      "Phrase compléte :  Quand Florent rentrait trop tard pour faire cuire quelque bout de viande, il achetait en bas un morceau de dinde ou un morceau d’oie de douze sous.\n",
      "\n",
      "verbe, sujet, objet :  vendu -> Il -> mobilier\n",
      "objet complet :  le pauvre mobilier de la rue Royer\n",
      "Phrase compléte :  Il avait vendu le pauvre mobilier de la rue Royer-Collard, et en gardait l’argent, quarante et quelques francs, pour que ce farceur de Quenu, disait-il, ne le jetât pas par les fenêtres.\n",
      "\n",
      "verbe, sujet, objet :  vendait -> elle -> où\n",
      "objet complet :  où\n",
      "Phrase compléte :  Lorsqu’elle le vit s’établir aux Halles, à deux pas du pavillon où elle vendait du beurre, des fromages et des œufs, elle l’accusa d’avoir « inventé ça pour la taquiner et lui porter mauvaise chance.\n",
      "\n",
      "verbe, sujet, objet :  vendait -> elle -> beurre\n",
      "objet complet :  du beurre , des fromages et des œufs\n",
      "Phrase compléte :  Lorsqu’elle le vit s’établir aux Halles, à deux pas du pavillon où elle vendait du beurre, des fromages et des œufs, elle l’accusa d’avoir « inventé ça pour la taquiner et lui porter mauvaise chance.\n",
      "\n",
      "verbe, sujet, objet :  acheté -> Je -> vous\n",
      "objet complet :  vous\n",
      "Phrase compléte :  Je vous en ai acheté avant-hier, du boudin…\n",
      "\n",
      "verbe, sujet, objet :  vendu -> vous -> m’\n",
      "objet complet :  m’\n",
      "Phrase compléte :  Elle se courba, les poings sur son comptoir ; et, d’une voix un peu rauque :\n",
      "\n",
      "— Dites donc, la semaine dernière, quand vous m’avez vendu cette paire de soles, vous savez, est-ce que je suis allée vous dire qu’elles étaient pourries devant le monde !\n",
      "\n",
      "verbe, sujet, objet :  vendu -> vous -> paire\n",
      "objet complet :  cette paire de soles\n",
      "Phrase compléte :  Elle se courba, les poings sur son comptoir ; et, d’une voix un peu rauque :\n",
      "\n",
      "— Dites donc, la semaine dernière, quand vous m’avez vendu cette paire de soles, vous savez, est-ce que je suis allée vous dire qu’elles étaient pourries devant le monde !\n",
      "\n",
      "verbe, sujet, objet :  vendrait -> Il -> semelles\n",
      "objet complet :  des semelles de bottes\n",
      "Phrase compléte :  Il vendrait des semelles de bottes pour des paires de soles.\n",
      "\n"
     ]
    }
   ],
   "source": [
    "from spacy.matcher import DependencyMatcher\n",
    "\n",
    "matcher = DependencyMatcher(nlp.vocab)\n",
    "pattern = [\n",
    "    {\n",
    "        \"RIGHT_ID\": \"vendre\",    \n",
    "        \"RIGHT_ATTRS\": {\"LEMMA\": {\"IN\": [\"vendre\", \"acheter\"]}}\n",
    "    },\n",
    "    {\n",
    "        \"LEFT_ID\": \"vendre\",\n",
    "        \"REL_OP\": \">\",\n",
    "        \"RIGHT_ID\": \"sujet\",\n",
    "        \"RIGHT_ATTRS\": {\"DEP\": \"nsubj\"},  \n",
    "    },\n",
    "    {\n",
    "        \"LEFT_ID\": \"vendre\",\n",
    "        \"REL_OP\": \">\",\n",
    "        \"RIGHT_ID\": \"objet\",\n",
    "        \"RIGHT_ATTRS\": {\"DEP\": {\"IN\": [\"obj\", \"iobj\", \"obl\"]}},  \n",
    "    }\n",
    "]\n",
    "matcher.add(\"VENDRE\", [pattern])\n",
    "matches = matcher(doc)\n",
    "for m_id, t_ids in matches:\n",
    "    print(\"verbe, sujet, objet : \", \" -> \".join([doc[t_id].text for t_id in t_ids]))\n",
    "    print(\"objet complet : \", \" \".join([t.text for t in doc[t_ids[2]].subtree]))\n",
    "    print(\"Phrase compléte : \", doc[t_ids[0]].sent)\n",
    "    print()"
   ]
  }
 ],
 "metadata": {
  "kernelspec": {
   "display_name": "Python 3",
   "language": "python",
   "name": "python3"
  },
  "language_info": {
   "codemirror_mode": {
    "name": "ipython",
    "version": 3
   },
   "file_extension": ".py",
   "mimetype": "text/x-python",
   "name": "python",
   "nbconvert_exporter": "python",
   "pygments_lexer": "ipython3",
   "version": "3.8.8"
  }
 },
 "nbformat": 4,
 "nbformat_minor": 2
}
